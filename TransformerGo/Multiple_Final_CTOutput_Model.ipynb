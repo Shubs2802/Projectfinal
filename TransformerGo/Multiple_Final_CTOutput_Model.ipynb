{
  "cells": [
    {
      "cell_type": "code",
      "execution_count": 1,
      "metadata": {
        "colab": {
          "base_uri": "https://localhost:8080/"
        },
        "id": "8-TiUvJBFFGd",
        "outputId": "da03d7ab-7715-45f9-c9b2-f7fadf7f06ca"
      },
      "outputs": [
        {
          "name": "stdout",
          "output_type": "stream",
          "text": [
            "2.11.0\n"
          ]
        }
      ],
      "source": [
        "import tensorflow as tf\n",
        "print(tf.__version__)\n",
        "import keras"
      ]
    },
    {
      "cell_type": "code",
      "execution_count": 2,
      "metadata": {
        "id": "9vSRCNiVFFGg"
      },
      "outputs": [],
      "source": [
        "import numpy as np\n",
        "import pandas as pd\n",
        "import matplotlib.pyplot as plt\n",
        "from sklearn import linear_model\n",
        "%matplotlib inline"
      ]
    },
    {
      "attachments": {},
      "cell_type": "markdown",
      "metadata": {
        "id": "bjPOC7IsFFGh"
      },
      "source": [
        "Load the Data"
      ]
    },
    {
      "cell_type": "code",
      "execution_count": 3,
      "metadata": {
        "id": "kL1ufEqAFFGj"
      },
      "outputs": [],
      "source": [
        "from sklearn.model_selection import train_test_split\n",
        "\n",
        "pd_dat = pd.read_csv(\"CT Dataset Changed.csv\")\n",
        "da=pd.read_csv(\"CT Dataset For Model Error Prediction.csv\",sep=\",\")\n",
        "dataset = pd_dat.values"
      ]
    },
    {
      "cell_type": "code",
      "execution_count": 4,
      "metadata": {},
      "outputs": [
        {
          "data": {
            "text/html": [
              "<div>\n",
              "<style scoped>\n",
              "    .dataframe tbody tr th:only-of-type {\n",
              "        vertical-align: middle;\n",
              "    }\n",
              "\n",
              "    .dataframe tbody tr th {\n",
              "        vertical-align: top;\n",
              "    }\n",
              "\n",
              "    .dataframe thead th {\n",
              "        text-align: right;\n",
              "    }\n",
              "</style>\n",
              "<table border=\"1\" class=\"dataframe\">\n",
              "  <thead>\n",
              "    <tr style=\"text-align: right;\">\n",
              "      <th></th>\n",
              "      <th>Speciations</th>\n",
              "      <th>Burden</th>\n",
              "      <th>class</th>\n",
              "      <th>VoltageFactor</th>\n",
              "      <th>BDVOil</th>\n",
              "      <th>PrimarytoSecondary</th>\n",
              "      <th>PrimarytoEarth</th>\n",
              "      <th>SecondarytoEarth</th>\n",
              "      <th>Ratio100Error120</th>\n",
              "      <th>Ratio100Error100</th>\n",
              "      <th>Ratio100Error80</th>\n",
              "      <th>Phase100Error120</th>\n",
              "      <th>Phase100Error100</th>\n",
              "      <th>Phase100Error80</th>\n",
              "    </tr>\n",
              "  </thead>\n",
              "  <tbody>\n",
              "    <tr>\n",
              "      <th>0</th>\n",
              "      <td>33</td>\n",
              "      <td>50</td>\n",
              "      <td>0.2</td>\n",
              "      <td>1.2/1.5</td>\n",
              "      <td>30</td>\n",
              "      <td>2000</td>\n",
              "      <td>900</td>\n",
              "      <td>900</td>\n",
              "      <td>-0.0839</td>\n",
              "      <td>-0.0594</td>\n",
              "      <td>-0.0524</td>\n",
              "      <td>-0.110</td>\n",
              "      <td>-0.690</td>\n",
              "      <td>-0.860</td>\n",
              "    </tr>\n",
              "    <tr>\n",
              "      <th>1</th>\n",
              "      <td>33</td>\n",
              "      <td>50</td>\n",
              "      <td>0.2</td>\n",
              "      <td>1.2/1.5</td>\n",
              "      <td>30</td>\n",
              "      <td>2000</td>\n",
              "      <td>700</td>\n",
              "      <td>800</td>\n",
              "      <td>-0.0256</td>\n",
              "      <td>-0.0120</td>\n",
              "      <td>-0.0070</td>\n",
              "      <td>-0.100</td>\n",
              "      <td>-0.430</td>\n",
              "      <td>-0.530</td>\n",
              "    </tr>\n",
              "    <tr>\n",
              "      <th>2</th>\n",
              "      <td>33</td>\n",
              "      <td>50</td>\n",
              "      <td>0.2</td>\n",
              "      <td>1.2/1.5</td>\n",
              "      <td>30</td>\n",
              "      <td>2000</td>\n",
              "      <td>750</td>\n",
              "      <td>750</td>\n",
              "      <td>-0.0450</td>\n",
              "      <td>-0.0595</td>\n",
              "      <td>-0.0661</td>\n",
              "      <td>-0.160</td>\n",
              "      <td>0.530</td>\n",
              "      <td>0.270</td>\n",
              "    </tr>\n",
              "    <tr>\n",
              "      <th>3</th>\n",
              "      <td>33</td>\n",
              "      <td>50</td>\n",
              "      <td>0.2</td>\n",
              "      <td>1.2/1.5</td>\n",
              "      <td>30</td>\n",
              "      <td>2000</td>\n",
              "      <td>950</td>\n",
              "      <td>980</td>\n",
              "      <td>-0.1530</td>\n",
              "      <td>-0.1460</td>\n",
              "      <td>-0.1440</td>\n",
              "      <td>-0.470</td>\n",
              "      <td>-0.570</td>\n",
              "      <td>-0.580</td>\n",
              "    </tr>\n",
              "    <tr>\n",
              "      <th>4</th>\n",
              "      <td>33</td>\n",
              "      <td>50</td>\n",
              "      <td>0.2</td>\n",
              "      <td>1.2/1.5</td>\n",
              "      <td>40</td>\n",
              "      <td>2000</td>\n",
              "      <td>800</td>\n",
              "      <td>750</td>\n",
              "      <td>-0.0385</td>\n",
              "      <td>-0.0327</td>\n",
              "      <td>-0.0315</td>\n",
              "      <td>-0.326</td>\n",
              "      <td>-0.022</td>\n",
              "      <td>-0.022</td>\n",
              "    </tr>\n",
              "    <tr>\n",
              "      <th>5</th>\n",
              "      <td>33</td>\n",
              "      <td>50</td>\n",
              "      <td>0.2</td>\n",
              "      <td>1.2/1.5</td>\n",
              "      <td>30</td>\n",
              "      <td>2000</td>\n",
              "      <td>750</td>\n",
              "      <td>900</td>\n",
              "      <td>-0.0588</td>\n",
              "      <td>-0.0452</td>\n",
              "      <td>-0.0380</td>\n",
              "      <td>0.100</td>\n",
              "      <td>-0.270</td>\n",
              "      <td>-0.470</td>\n",
              "    </tr>\n",
              "    <tr>\n",
              "      <th>6</th>\n",
              "      <td>33</td>\n",
              "      <td>50</td>\n",
              "      <td>0.2</td>\n",
              "      <td>1.2/1.5</td>\n",
              "      <td>30</td>\n",
              "      <td>2000</td>\n",
              "      <td>700</td>\n",
              "      <td>800</td>\n",
              "      <td>-0.0535</td>\n",
              "      <td>-0.0450</td>\n",
              "      <td>-0.0415</td>\n",
              "      <td>-0.290</td>\n",
              "      <td>-0.500</td>\n",
              "      <td>-0.560</td>\n",
              "    </tr>\n",
              "    <tr>\n",
              "      <th>7</th>\n",
              "      <td>33</td>\n",
              "      <td>50</td>\n",
              "      <td>0.2</td>\n",
              "      <td>1.2/1.5</td>\n",
              "      <td>30</td>\n",
              "      <td>2000</td>\n",
              "      <td>900</td>\n",
              "      <td>800</td>\n",
              "      <td>-0.0500</td>\n",
              "      <td>-0.0403</td>\n",
              "      <td>-0.0366</td>\n",
              "      <td>0.080</td>\n",
              "      <td>-0.230</td>\n",
              "      <td>-0.330</td>\n",
              "    </tr>\n",
              "    <tr>\n",
              "      <th>8</th>\n",
              "      <td>33</td>\n",
              "      <td>50</td>\n",
              "      <td>0.2</td>\n",
              "      <td>1.2/1.5</td>\n",
              "      <td>33</td>\n",
              "      <td>2000</td>\n",
              "      <td>800</td>\n",
              "      <td>700</td>\n",
              "      <td>-0.0441</td>\n",
              "      <td>-0.0364</td>\n",
              "      <td>-0.0341</td>\n",
              "      <td>0.510</td>\n",
              "      <td>0.200</td>\n",
              "      <td>0.140</td>\n",
              "    </tr>\n",
              "    <tr>\n",
              "      <th>9</th>\n",
              "      <td>33</td>\n",
              "      <td>50</td>\n",
              "      <td>0.2</td>\n",
              "      <td>1.2/1.5</td>\n",
              "      <td>33</td>\n",
              "      <td>1000</td>\n",
              "      <td>700</td>\n",
              "      <td>550</td>\n",
              "      <td>-0.0506</td>\n",
              "      <td>-0.0460</td>\n",
              "      <td>-0.0424</td>\n",
              "      <td>0.660</td>\n",
              "      <td>0.470</td>\n",
              "      <td>0.360</td>\n",
              "    </tr>\n",
              "    <tr>\n",
              "      <th>10</th>\n",
              "      <td>33</td>\n",
              "      <td>50</td>\n",
              "      <td>0.2</td>\n",
              "      <td>1.2/1.5</td>\n",
              "      <td>33</td>\n",
              "      <td>1500</td>\n",
              "      <td>750</td>\n",
              "      <td>800</td>\n",
              "      <td>-0.0406</td>\n",
              "      <td>-0.0337</td>\n",
              "      <td>-0.0286</td>\n",
              "      <td>0.140</td>\n",
              "      <td>-0.120</td>\n",
              "      <td>-0.270</td>\n",
              "    </tr>\n",
              "    <tr>\n",
              "      <th>11</th>\n",
              "      <td>33</td>\n",
              "      <td>50</td>\n",
              "      <td>0.2</td>\n",
              "      <td>1.2/1.5</td>\n",
              "      <td>30</td>\n",
              "      <td>2000</td>\n",
              "      <td>800</td>\n",
              "      <td>900</td>\n",
              "      <td>-0.0594</td>\n",
              "      <td>-0.0502</td>\n",
              "      <td>-0.0441</td>\n",
              "      <td>-0.430</td>\n",
              "      <td>-0.500</td>\n",
              "      <td>-0.800</td>\n",
              "    </tr>\n",
              "    <tr>\n",
              "      <th>12</th>\n",
              "      <td>33</td>\n",
              "      <td>50</td>\n",
              "      <td>0.2</td>\n",
              "      <td>1.2/1.5</td>\n",
              "      <td>33</td>\n",
              "      <td>1000</td>\n",
              "      <td>800</td>\n",
              "      <td>700</td>\n",
              "      <td>-0.0490</td>\n",
              "      <td>-0.0396</td>\n",
              "      <td>-0.0362</td>\n",
              "      <td>0.030</td>\n",
              "      <td>-0.200</td>\n",
              "      <td>-0.340</td>\n",
              "    </tr>\n",
              "    <tr>\n",
              "      <th>13</th>\n",
              "      <td>33</td>\n",
              "      <td>50</td>\n",
              "      <td>0.2</td>\n",
              "      <td>1.2/1.5</td>\n",
              "      <td>38</td>\n",
              "      <td>2000</td>\n",
              "      <td>1000</td>\n",
              "      <td>900</td>\n",
              "      <td>-0.0577</td>\n",
              "      <td>-0.0460</td>\n",
              "      <td>-0.0413</td>\n",
              "      <td>0.380</td>\n",
              "      <td>0.010</td>\n",
              "      <td>-0.190</td>\n",
              "    </tr>\n",
              "    <tr>\n",
              "      <th>14</th>\n",
              "      <td>33</td>\n",
              "      <td>50</td>\n",
              "      <td>0.2</td>\n",
              "      <td>1.2/1.5</td>\n",
              "      <td>33</td>\n",
              "      <td>900</td>\n",
              "      <td>750</td>\n",
              "      <td>750</td>\n",
              "      <td>-0.0395</td>\n",
              "      <td>-0.0373</td>\n",
              "      <td>-0.0361</td>\n",
              "      <td>0.490</td>\n",
              "      <td>0.280</td>\n",
              "      <td>0.200</td>\n",
              "    </tr>\n",
              "    <tr>\n",
              "      <th>15</th>\n",
              "      <td>33</td>\n",
              "      <td>50</td>\n",
              "      <td>0.2</td>\n",
              "      <td>1.2/1.5</td>\n",
              "      <td>38</td>\n",
              "      <td>2000</td>\n",
              "      <td>1000</td>\n",
              "      <td>800</td>\n",
              "      <td>-0.0463</td>\n",
              "      <td>-0.0391</td>\n",
              "      <td>-0.0360</td>\n",
              "      <td>0.050</td>\n",
              "      <td>-0.200</td>\n",
              "      <td>-0.320</td>\n",
              "    </tr>\n",
              "    <tr>\n",
              "      <th>16</th>\n",
              "      <td>33</td>\n",
              "      <td>50</td>\n",
              "      <td>0.2</td>\n",
              "      <td>1.2/1.5</td>\n",
              "      <td>38</td>\n",
              "      <td>2000</td>\n",
              "      <td>750</td>\n",
              "      <td>550</td>\n",
              "      <td>-0.0466</td>\n",
              "      <td>-0.0369</td>\n",
              "      <td>-0.0329</td>\n",
              "      <td>0.090</td>\n",
              "      <td>-0.240</td>\n",
              "      <td>-0.360</td>\n",
              "    </tr>\n",
              "    <tr>\n",
              "      <th>17</th>\n",
              "      <td>33</td>\n",
              "      <td>50</td>\n",
              "      <td>0.2</td>\n",
              "      <td>1.2/1.5</td>\n",
              "      <td>38</td>\n",
              "      <td>2000</td>\n",
              "      <td>1000</td>\n",
              "      <td>550</td>\n",
              "      <td>-0.0493</td>\n",
              "      <td>-0.0428</td>\n",
              "      <td>-0.0397</td>\n",
              "      <td>-0.330</td>\n",
              "      <td>-0.520</td>\n",
              "      <td>-0.620</td>\n",
              "    </tr>\n",
              "    <tr>\n",
              "      <th>18</th>\n",
              "      <td>33</td>\n",
              "      <td>50</td>\n",
              "      <td>0.2</td>\n",
              "      <td>1.2/1.5</td>\n",
              "      <td>38</td>\n",
              "      <td>2000</td>\n",
              "      <td>1000</td>\n",
              "      <td>500</td>\n",
              "      <td>-0.0650</td>\n",
              "      <td>-0.0554</td>\n",
              "      <td>-0.0510</td>\n",
              "      <td>0.080</td>\n",
              "      <td>-0.210</td>\n",
              "      <td>-0.360</td>\n",
              "    </tr>\n",
              "    <tr>\n",
              "      <th>19</th>\n",
              "      <td>33</td>\n",
              "      <td>50</td>\n",
              "      <td>0.2</td>\n",
              "      <td>1.2/1.5</td>\n",
              "      <td>38</td>\n",
              "      <td>2000</td>\n",
              "      <td>900</td>\n",
              "      <td>1000</td>\n",
              "      <td>-0.0603</td>\n",
              "      <td>-0.0504</td>\n",
              "      <td>-0.0452</td>\n",
              "      <td>0.020</td>\n",
              "      <td>-0.320</td>\n",
              "      <td>-0.500</td>\n",
              "    </tr>\n",
              "    <tr>\n",
              "      <th>20</th>\n",
              "      <td>33</td>\n",
              "      <td>50</td>\n",
              "      <td>0.2</td>\n",
              "      <td>1.2/1.5</td>\n",
              "      <td>38</td>\n",
              "      <td>2000</td>\n",
              "      <td>1000</td>\n",
              "      <td>750</td>\n",
              "      <td>-0.0338</td>\n",
              "      <td>-0.0291</td>\n",
              "      <td>-0.0281</td>\n",
              "      <td>0.160</td>\n",
              "      <td>-0.080</td>\n",
              "      <td>-0.210</td>\n",
              "    </tr>\n",
              "    <tr>\n",
              "      <th>21</th>\n",
              "      <td>33</td>\n",
              "      <td>50</td>\n",
              "      <td>0.2</td>\n",
              "      <td>1.2/1.5</td>\n",
              "      <td>38</td>\n",
              "      <td>2000</td>\n",
              "      <td>1000</td>\n",
              "      <td>750</td>\n",
              "      <td>-0.0640</td>\n",
              "      <td>-0.0559</td>\n",
              "      <td>-0.0520</td>\n",
              "      <td>-0.160</td>\n",
              "      <td>-0.380</td>\n",
              "      <td>-0.490</td>\n",
              "    </tr>\n",
              "    <tr>\n",
              "      <th>22</th>\n",
              "      <td>33</td>\n",
              "      <td>50</td>\n",
              "      <td>0.2</td>\n",
              "      <td>1.2/1.5</td>\n",
              "      <td>33</td>\n",
              "      <td>2000</td>\n",
              "      <td>750</td>\n",
              "      <td>750</td>\n",
              "      <td>-0.0483</td>\n",
              "      <td>-0.0428</td>\n",
              "      <td>-0.0392</td>\n",
              "      <td>0.460</td>\n",
              "      <td>0.240</td>\n",
              "      <td>0.170</td>\n",
              "    </tr>\n",
              "    <tr>\n",
              "      <th>23</th>\n",
              "      <td>33</td>\n",
              "      <td>50</td>\n",
              "      <td>0.2</td>\n",
              "      <td>1.2/1.5</td>\n",
              "      <td>33</td>\n",
              "      <td>1000</td>\n",
              "      <td>800</td>\n",
              "      <td>800</td>\n",
              "      <td>-0.0480</td>\n",
              "      <td>-0.0351</td>\n",
              "      <td>-0.0304</td>\n",
              "      <td>0.360</td>\n",
              "      <td>0.020</td>\n",
              "      <td>-0.130</td>\n",
              "    </tr>\n",
              "    <tr>\n",
              "      <th>24</th>\n",
              "      <td>33</td>\n",
              "      <td>50</td>\n",
              "      <td>0.2</td>\n",
              "      <td>1.2/1.5</td>\n",
              "      <td>38</td>\n",
              "      <td>1500</td>\n",
              "      <td>800</td>\n",
              "      <td>800</td>\n",
              "      <td>-0.0390</td>\n",
              "      <td>-0.0303</td>\n",
              "      <td>-0.0268</td>\n",
              "      <td>0.440</td>\n",
              "      <td>0.160</td>\n",
              "      <td>-0.010</td>\n",
              "    </tr>\n",
              "    <tr>\n",
              "      <th>25</th>\n",
              "      <td>33</td>\n",
              "      <td>50</td>\n",
              "      <td>0.2</td>\n",
              "      <td>1.2/1.5</td>\n",
              "      <td>33</td>\n",
              "      <td>2000</td>\n",
              "      <td>500</td>\n",
              "      <td>700</td>\n",
              "      <td>-0.0317</td>\n",
              "      <td>-0.0224</td>\n",
              "      <td>-0.0187</td>\n",
              "      <td>0.070</td>\n",
              "      <td>-0.210</td>\n",
              "      <td>-0.340</td>\n",
              "    </tr>\n",
              "    <tr>\n",
              "      <th>26</th>\n",
              "      <td>33</td>\n",
              "      <td>50</td>\n",
              "      <td>0.2</td>\n",
              "      <td>1.2/1.5</td>\n",
              "      <td>33</td>\n",
              "      <td>1100</td>\n",
              "      <td>800</td>\n",
              "      <td>800</td>\n",
              "      <td>-0.0371</td>\n",
              "      <td>-0.0260</td>\n",
              "      <td>-0.0233</td>\n",
              "      <td>0.450</td>\n",
              "      <td>0.100</td>\n",
              "      <td>-0.040</td>\n",
              "    </tr>\n",
              "    <tr>\n",
              "      <th>27</th>\n",
              "      <td>33</td>\n",
              "      <td>50</td>\n",
              "      <td>0.2</td>\n",
              "      <td>1.2/1.5</td>\n",
              "      <td>33</td>\n",
              "      <td>1000</td>\n",
              "      <td>800</td>\n",
              "      <td>700</td>\n",
              "      <td>-0.0575</td>\n",
              "      <td>-0.0495</td>\n",
              "      <td>-0.0449</td>\n",
              "      <td>0.510</td>\n",
              "      <td>0.280</td>\n",
              "      <td>0.150</td>\n",
              "    </tr>\n",
              "    <tr>\n",
              "      <th>28</th>\n",
              "      <td>33</td>\n",
              "      <td>50</td>\n",
              "      <td>0.2</td>\n",
              "      <td>1.2/1.5</td>\n",
              "      <td>44</td>\n",
              "      <td>200</td>\n",
              "      <td>55</td>\n",
              "      <td>50</td>\n",
              "      <td>-0.0475</td>\n",
              "      <td>-0.0421</td>\n",
              "      <td>-0.0367</td>\n",
              "      <td>0.260</td>\n",
              "      <td>0.070</td>\n",
              "      <td>-0.060</td>\n",
              "    </tr>\n",
              "    <tr>\n",
              "      <th>29</th>\n",
              "      <td>33</td>\n",
              "      <td>50</td>\n",
              "      <td>0.2</td>\n",
              "      <td>1.2/1.5</td>\n",
              "      <td>44</td>\n",
              "      <td>1000</td>\n",
              "      <td>50</td>\n",
              "      <td>750</td>\n",
              "      <td>-0.0931</td>\n",
              "      <td>-0.0874</td>\n",
              "      <td>-0.0843</td>\n",
              "      <td>-1.740</td>\n",
              "      <td>-1.920</td>\n",
              "      <td>-2.070</td>\n",
              "    </tr>\n",
              "  </tbody>\n",
              "</table>\n",
              "</div>"
            ],
            "text/plain": [
              "    Speciations  Burden  class VoltageFactor  BDVOil  PrimarytoSecondary  \\\n",
              "0            33      50    0.2       1.2/1.5      30                2000   \n",
              "1            33      50    0.2       1.2/1.5      30                2000   \n",
              "2            33      50    0.2       1.2/1.5      30                2000   \n",
              "3            33      50    0.2       1.2/1.5      30                2000   \n",
              "4            33      50    0.2       1.2/1.5      40                2000   \n",
              "5            33      50    0.2       1.2/1.5      30                2000   \n",
              "6            33      50    0.2       1.2/1.5      30                2000   \n",
              "7            33      50    0.2       1.2/1.5      30                2000   \n",
              "8            33      50    0.2       1.2/1.5      33                2000   \n",
              "9            33      50    0.2       1.2/1.5      33                1000   \n",
              "10           33      50    0.2       1.2/1.5      33                1500   \n",
              "11           33      50    0.2       1.2/1.5      30                2000   \n",
              "12           33      50    0.2       1.2/1.5      33                1000   \n",
              "13           33      50    0.2       1.2/1.5      38                2000   \n",
              "14           33      50    0.2       1.2/1.5      33                 900   \n",
              "15           33      50    0.2       1.2/1.5      38                2000   \n",
              "16           33      50    0.2       1.2/1.5      38                2000   \n",
              "17           33      50    0.2       1.2/1.5      38                2000   \n",
              "18           33      50    0.2       1.2/1.5      38                2000   \n",
              "19           33      50    0.2       1.2/1.5      38                2000   \n",
              "20           33      50    0.2       1.2/1.5      38                2000   \n",
              "21           33      50    0.2       1.2/1.5      38                2000   \n",
              "22           33      50    0.2       1.2/1.5      33                2000   \n",
              "23           33      50    0.2       1.2/1.5      33                1000   \n",
              "24           33      50    0.2       1.2/1.5      38                1500   \n",
              "25           33      50    0.2       1.2/1.5      33                2000   \n",
              "26           33      50    0.2       1.2/1.5      33                1100   \n",
              "27           33      50    0.2       1.2/1.5      33                1000   \n",
              "28           33      50    0.2       1.2/1.5      44                 200   \n",
              "29           33      50    0.2       1.2/1.5      44                1000   \n",
              "\n",
              "    PrimarytoEarth  SecondarytoEarth  Ratio100Error120  Ratio100Error100  \\\n",
              "0              900               900           -0.0839           -0.0594   \n",
              "1              700               800           -0.0256           -0.0120   \n",
              "2              750               750           -0.0450           -0.0595   \n",
              "3              950               980           -0.1530           -0.1460   \n",
              "4              800               750           -0.0385           -0.0327   \n",
              "5              750               900           -0.0588           -0.0452   \n",
              "6              700               800           -0.0535           -0.0450   \n",
              "7              900               800           -0.0500           -0.0403   \n",
              "8              800               700           -0.0441           -0.0364   \n",
              "9              700               550           -0.0506           -0.0460   \n",
              "10             750               800           -0.0406           -0.0337   \n",
              "11             800               900           -0.0594           -0.0502   \n",
              "12             800               700           -0.0490           -0.0396   \n",
              "13            1000               900           -0.0577           -0.0460   \n",
              "14             750               750           -0.0395           -0.0373   \n",
              "15            1000               800           -0.0463           -0.0391   \n",
              "16             750               550           -0.0466           -0.0369   \n",
              "17            1000               550           -0.0493           -0.0428   \n",
              "18            1000               500           -0.0650           -0.0554   \n",
              "19             900              1000           -0.0603           -0.0504   \n",
              "20            1000               750           -0.0338           -0.0291   \n",
              "21            1000               750           -0.0640           -0.0559   \n",
              "22             750               750           -0.0483           -0.0428   \n",
              "23             800               800           -0.0480           -0.0351   \n",
              "24             800               800           -0.0390           -0.0303   \n",
              "25             500               700           -0.0317           -0.0224   \n",
              "26             800               800           -0.0371           -0.0260   \n",
              "27             800               700           -0.0575           -0.0495   \n",
              "28              55                50           -0.0475           -0.0421   \n",
              "29              50               750           -0.0931           -0.0874   \n",
              "\n",
              "    Ratio100Error80  Phase100Error120  Phase100Error100  Phase100Error80  \n",
              "0           -0.0524            -0.110            -0.690           -0.860  \n",
              "1           -0.0070            -0.100            -0.430           -0.530  \n",
              "2           -0.0661            -0.160             0.530            0.270  \n",
              "3           -0.1440            -0.470            -0.570           -0.580  \n",
              "4           -0.0315            -0.326            -0.022           -0.022  \n",
              "5           -0.0380             0.100            -0.270           -0.470  \n",
              "6           -0.0415            -0.290            -0.500           -0.560  \n",
              "7           -0.0366             0.080            -0.230           -0.330  \n",
              "8           -0.0341             0.510             0.200            0.140  \n",
              "9           -0.0424             0.660             0.470            0.360  \n",
              "10          -0.0286             0.140            -0.120           -0.270  \n",
              "11          -0.0441            -0.430            -0.500           -0.800  \n",
              "12          -0.0362             0.030            -0.200           -0.340  \n",
              "13          -0.0413             0.380             0.010           -0.190  \n",
              "14          -0.0361             0.490             0.280            0.200  \n",
              "15          -0.0360             0.050            -0.200           -0.320  \n",
              "16          -0.0329             0.090            -0.240           -0.360  \n",
              "17          -0.0397            -0.330            -0.520           -0.620  \n",
              "18          -0.0510             0.080            -0.210           -0.360  \n",
              "19          -0.0452             0.020            -0.320           -0.500  \n",
              "20          -0.0281             0.160            -0.080           -0.210  \n",
              "21          -0.0520            -0.160            -0.380           -0.490  \n",
              "22          -0.0392             0.460             0.240            0.170  \n",
              "23          -0.0304             0.360             0.020           -0.130  \n",
              "24          -0.0268             0.440             0.160           -0.010  \n",
              "25          -0.0187             0.070            -0.210           -0.340  \n",
              "26          -0.0233             0.450             0.100           -0.040  \n",
              "27          -0.0449             0.510             0.280            0.150  \n",
              "28          -0.0367             0.260             0.070           -0.060  \n",
              "29          -0.0843            -1.740            -1.920           -2.070  "
            ]
          },
          "execution_count": 4,
          "metadata": {},
          "output_type": "execute_result"
        }
      ],
      "source": [
        "da"
      ]
    },
    {
      "cell_type": "code",
      "execution_count": null,
      "metadata": {
        "colab": {
          "base_uri": "https://localhost:8080/"
        },
        "id": "PZJtOqXwFFGj",
        "outputId": "40f28529-1da1-4574-922a-4288920d72e2"
      },
      "outputs": [],
      "source": []
    },
    {
      "cell_type": "code",
      "execution_count": 5,
      "metadata": {
        "id": "YISSa6v8FFGk"
      },
      "outputs": [],
      "source": [
        "X_train, X_test, Y_train, Y_test = train_test_split(dataset[:,:7],dataset[:,7:], test_size=0.33)\n",
        "X_train = np.asarray(X_train)\n",
        "Y_train = np.asarray(Y_train)\n",
        "# .astype(np.float32)"
      ]
    },
    {
      "cell_type": "code",
      "execution_count": 6,
      "metadata": {
        "id": "s-YwDRMPFFGl"
      },
      "outputs": [],
      "source": [
        "spec_train, Burden_train, class_train, BDV_train, PtoS_train, PtoE_train, StoR_train = np.transpose(X_train)\n",
        "spec_test, Burden_test, class_test, BDV_test, PtoS_test, PtoE_test, StoR_test = np.transpose(X_test)\n",
        "\n",
        "Ratio100Error120_train, Ratio100Error100_train ,Ratio100Error80_train, Phase100Error120_train ,Phase100Error100_train, Phase100Error80_train, Ratio25Error120_train, Ratio25Error100_train, Ratio25Error80_train, Phase25Error120_train, Phase25Error100_train, Phase25Error80_train = Y_train[:,0], Y_train[:,1], Y_train[:,2], Y_train[:,3],Y_train[:,4],Y_train[:,5],Y_train[:,6],Y_train[:,7],Y_train[:,8],Y_train[:,9],Y_train[:,10], Y_train[:,11]\n",
        "Ratio100Error120_test, Ratio100Error100_test ,Ratio100Error80_test, Phase100Error120_test ,Phase100Error100_test, Phase100Error80_test, Ratio25Error120_test, Ratio25Error100_test, Ratio25Error80_test, Phase25Error120_test, Phase25Error100_test, Phase25Error80_test = Y_test[:,0], Y_test[:,1], Y_test[:,2], Y_test[:,3],Y_test[:,4],Y_test[:,5],Y_test[:,6],Y_test[:,7],Y_test[:,8],Y_test[:,9],Y_test[:,10], Y_test[:,11]"
      ]
    },
    {
      "attachments": {},
      "cell_type": "markdown",
      "metadata": {
        "id": "Qdllp6jtFFGm"
      },
      "source": [
        "Build the Model"
      ]
    },
    {
      "cell_type": "code",
      "execution_count": 7,
      "metadata": {
        "id": "QkCHAffSFFGm"
      },
      "outputs": [],
      "source": [
        "from tensorflow.keras import Input, layers\n",
        "shape_inputs = (1,)\n",
        "spec = Input(shape=shape_inputs, name='spec')\n",
        "Burden= Input(shape=shape_inputs, name='Burden')\n",
        "Class= Input(shape=shape_inputs, name='Class')\n",
        "BDVOil= Input(shape=shape_inputs, name='BDVOil')\n",
        "PtoS= Input(shape=shape_inputs, name='PtoS')\n",
        "PtoE= Input(shape=shape_inputs, name='PtoE')\n",
        "StoR= Input(shape=shape_inputs, name='StoR')\n"
      ]
    },
    {
      "cell_type": "code",
      "execution_count": 8,
      "metadata": {
        "id": "A_rkOqlsFFGn"
      },
      "outputs": [],
      "source": [
        "list_inputs = [spec,  Burden, Class,  BDVOil, PtoS, PtoE, StoR]"
      ]
    },
    {
      "cell_type": "code",
      "execution_count": 9,
      "metadata": {
        "id": "inMBLdm0FFGo"
      },
      "outputs": [],
      "source": [
        "X= layers.concatenate(list_inputs)"
      ]
    },
    {
      "cell_type": "code",
      "execution_count": 10,
      "metadata": {
        "id": "EoH5gb4UFFGo"
      },
      "outputs": [],
      "source": [
        "Ratio100Error120 = layers.Dense(1,activation='sigmoid', name= 'R100E120')(X)\n",
        "Ratio100Error100 = layers.Dense(1,activation='sigmoid', name= 'R100E100')(X) \n",
        "Ratio100Error80 = layers.Dense(1,activation='sigmoid', name= 'R100E80')(X)\n",
        "Phase100Error120 = layers.Dense(1,activation='sigmoid', name= 'P100E120')(X) \n",
        "Phase100Error100 = layers.Dense(1,activation='sigmoid', name= 'P100E100')(X)\n",
        "Phase100Error80 = layers.Dense(1,activation='sigmoid', name= 'P100E80')(X)\n",
        "Ratio25Error120 = layers.Dense(1,activation='sigmoid', name= 'R25E120')(X)\n",
        "Ratio25Error100 = layers.Dense(1,activation='sigmoid', name= 'R25E100')(X)\n",
        "Ratio25Error80 = layers.Dense(1,activation='sigmoid', name= 'R25E80')(X)\n",
        "Phase25Error120 = layers.Dense(1,activation='sigmoid', name= 'P25E120')(X)\n",
        "Phase25Error100 = layers.Dense(1,activation='sigmoid', name= 'P25E100')(X)\n",
        "Phase25Error80 = layers.Dense(1,activation='sigmoid', name= 'P25E80')(X)"
      ]
    },
    {
      "cell_type": "code",
      "execution_count": 11,
      "metadata": {
        "colab": {
          "base_uri": "https://localhost:8080/"
        },
        "id": "jv2eWO-4FFGp",
        "outputId": "5c04958d-58b4-498c-be05-277ec0563c64"
      },
      "outputs": [
        {
          "data": {
            "text/plain": [
              "1.653491737221143"
            ]
          },
          "execution_count": 11,
          "metadata": {},
          "output_type": "execute_result"
        }
      ],
      "source": [
        "list_outputs = [Ratio100Error120, Ratio100Error100, Ratio100Error80, Phase100Error120, Phase100Error100, Phase100Error80, Ratio25Error120, Ratio25Error100, Ratio25Error80, Phase25Error120, Phase25Error100, Phase25Error80]   \n",
        "reg1 = linear_model.LinearRegression()\n",
        "reg1.fit(da.drop(['Ratio100Error120','Ratio100Error100','Ratio100Error80','Phase100Error120','Phase100Error100','Phase100Error80','VoltageFactor'],axis='columns'),da.Ratio100Error120)\n",
        "reg2 = linear_model.LinearRegression()\n",
        "reg2.fit(da.drop(['Ratio100Error120','Ratio100Error100','Ratio100Error80','Phase100Error120','Phase100Error100','Phase100Error80','VoltageFactor'],axis='columns'),da.Ratio100Error100)\n",
        "reg3 = linear_model.LinearRegression()\n",
        "reg3.fit(da.drop(['Ratio100Error120','Ratio100Error100','Ratio100Error80','Phase100Error120','Phase100Error100','Phase100Error80','VoltageFactor'],axis='columns'),da.Ratio100Error80)\n",
        "reg4 = linear_model.LinearRegression()\n",
        "reg4.fit(da.drop(['Ratio100Error120','Ratio100Error100','Ratio100Error80','Phase100Error120','Phase100Error100','Phase100Error80','VoltageFactor'],axis='columns'),da.Phase100Error120)\n",
        "reg5 = linear_model.LinearRegression()\n",
        "reg5.fit(da.drop(['Ratio100Error120','Ratio100Error100','Ratio100Error80','Phase100Error120','Phase100Error100','Phase100Error80','VoltageFactor'],axis='columns'),da.Phase100Error100)\n",
        "reg6 = linear_model.LinearRegression()\n",
        "reg6.fit(da.drop(['Ratio100Error120','Ratio100Error100','Ratio100Error80','Phase100Error120','Phase100Error100','Phase100Error80','VoltageFactor'],axis='columns'),da.Phase100Error80)\n",
        "reg1.coef_\n",
        "reg2.coef_\n",
        "reg3.coef_\n",
        "reg4.coef_\n",
        "reg5.coef_\n",
        "reg6.coef_\n",
        "reg1.intercept_\n",
        "reg2.intercept_\n",
        "reg3.intercept_\n",
        "reg4.intercept_\n",
        "reg5.intercept_\n",
        "reg6.intercept_"
      ]
    },
    {
      "cell_type": "code",
      "execution_count": 12,
      "metadata": {
        "id": "V4pDFqTgFFGq"
      },
      "outputs": [],
      "source": [
        "model = tf.keras.Model(inputs=list_inputs, outputs=list_outputs)"
      ]
    },
    {
      "attachments": {},
      "cell_type": "markdown",
      "metadata": {
        "id": "s683oUmpFFGq"
      },
      "source": [
        "Plot the Model"
      ]
    },
    {
      "cell_type": "code",
      "execution_count": 13,
      "metadata": {
        "colab": {
          "base_uri": "https://localhost:8080/",
          "height": 142
        },
        "id": "RPgtKA23FFGr",
        "outputId": "594cc9f6-2a8a-4ce0-d5f7-dcd6aa274a80"
      },
      "outputs": [
        {
          "data": {
            "image/png": "[encoded data removed]",
            "text/plain": [
              "<IPython.core.display.Image object>"
            ]
          },
          "execution_count": 13,
          "metadata": {},
          "output_type": "execute_result"
        }
      ],
      "source": [
        "tf.keras.utils.plot_model(model, 'muti_input_output_model.png', show_shapes=True)"
      ]
    },
    {
      "attachments": {},
      "cell_type": "markdown",
      "metadata": {
        "id": "cjct4q61FFGr"
      },
      "source": [
        "Compile The Model"
      ]
    },
    {
      "cell_type": "code",
      "execution_count": 14,
      "metadata": {
        "id": "diMj2TSQFFGs"
      },
      "outputs": [],
      "source": [
        "# model.compile(optimizer=tf.keras.optimizers.RMSprop(1e-3), loss={'Ratio100Error120':'binary_crossentropy', \n",
        "#                                                                 'Ratio100Error100':'binary_crossentropy',\n",
        "#                                                                 'Ratio100Error80':'binary_crossentropy', \n",
        "#                                                                 'Phase100Error120':'binary_crossentropy', \n",
        "#                                                                 'Phase100Error100':'binary_crossentropy', \n",
        "#                                                                 'Phase100Error80':'binary_crossentropy',\n",
        "#                                                                 'Ratio25Error120':'binary_crossentropy', \n",
        "#                                                                 'Ratio25Error100':'binary_crossentropy',\n",
        "#                                                                 'Ratio25Error80':'binary_crossentropy',\n",
        "#                                                                 'Phase25Error120':'binary_crossentropy',\n",
        "#                                                                 'Phase25Error100':'binary_crossentropy', \n",
        "#                                                                 'Phase25Error80':'binary_crossentropy'},\n",
        "#                                                                 metrics=['acc'],\n",
        "#                                                                 loss_weights=[1.,0.2])"
      ]
    },
    {
      "cell_type": "code",
      "execution_count": 15,
      "metadata": {
        "id": "muV3sTnzFFGs"
      },
      "outputs": [],
      "source": [
        "from keras.backend import binary_crossentropy\n",
        "model.compile(optimizer=tf.keras.optimizers.RMSprop(1e-3), loss=\n",
        "                                                                ['binary_crossentropy', \n",
        "                                                                'binary_crossentropy',\n",
        "                                                                'binary_crossentropy', \n",
        "                                                                'binary_crossentropy', \n",
        "                                                                'binary_crossentropy', \n",
        "                                                                'binary_crossentropy',\n",
        "                                                                'binary_crossentropy', \n",
        "                                                                'binary_crossentropy',\n",
        "                                                                'binary_crossentropy',\n",
        "                                                                'binary_crossentropy',\n",
        "                                                                'binary_crossentropy', \n",
        "                                                                 'binary_crossentropy'\n",
        "                                                                 ]\n",
        "                                                                ,\n",
        "                                                                metrics={'R100E120':['acc'],\n",
        "                                                                         'R100E100':['acc'],\n",
        "                                                                         'R100E80':['acc'],\n",
        "                                                                         'P100E120':['acc'],\n",
        "                                                                         'P100E100':['acc'],\n",
        "                                                                         'P100E80':['acc'],\n",
        "                                                                         'R25E120':['acc'],\n",
        "                                                                         'R25E100':['acc'],\n",
        "                                                                         'R25E80':['acc'],\n",
        "                                                                         'P25E120':['acc'],\n",
        "                                                                         'P25E100':['acc'],\n",
        "                                                                         'P25E80':['acc']\n",
        "                                                                         },\n",
        "                                                                loss_weights=[1.,0.2])\n"
      ]
    },
    {
      "cell_type": "code",
      "execution_count": 16,
      "metadata": {
        "id": "r5lRy7GChuHa"
      },
      "outputs": [],
      "source": [
        "# model.compile(\n",
        "#     loss = {\n",
        "#         \"output_2\" : keras.losses.BinaryCrossentropy(from_logits=False),\n",
        "#         \"output_1\" : keras.losses.CategoricalCrossentropy(from_logits=False)\n",
        "#     },\n",
        "#     metrics = ['accuracy'],\n",
        "#     optimizer = keras.optimizers.Adam()\n",
        "# )"
      ]
    },
    {
      "attachments": {},
      "cell_type": "markdown",
      "metadata": {
        "id": "hH1Gz9a1FFGt"
      },
      "source": [
        "Fit Model"
      ]
    },
    {
      "cell_type": "code",
      "execution_count": 17,
      "metadata": {
        "id": "LpAPcqvjFFGu"
      },
      "outputs": [],
      "source": [
        "# inputs_train={'spec' :spec_train, \n",
        "#               'PTRatio': PTRatio_train, \n",
        "#               'Type1':Type1_train, \n",
        "#               'Type2':Type2_train, \n",
        "#               'Burden':Burden_train, \n",
        "#               'Class': class_train, \n",
        "#               'VoltF':VF_train, \n",
        "#               'BDVOil': BDV_train, \n",
        "#               'PtoS':PtoS_train, \n",
        "#               'PtoE': PtoE_train, \n",
        "#               'StoR':StoR_train}\n",
        "\n",
        "# outputs_train={'Ratio100Error120': Ratio100Error120_train,\n",
        "#                 'Ratio100Error100':Ratio100Error100_train,\n",
        "#                 'Ratio100Error80':Ratio100Error80_train ,\n",
        "#                 'Phase100Error120':Phase100Error120_train,\n",
        "#                 'Phase100Error100':Phase100Error100_train,\n",
        "#                 'Phase100Error80':Phase100Error80_train,\n",
        "#                 'Ratio25Error120':Ratio25Error120_train,\n",
        "#                 'Ratio25Error100':Ratio25Error100_train,\n",
        "#                 'Ratio25Error80':Ratio25Error80_train,\n",
        "#                 'Phase25Error120':Phase25Error120_train,\n",
        "#                 'Phase25Error100':Phase25Error100_train,\n",
        "#                 'Phase25Error80':Phase25Error80_train\n",
        "\n",
        "# }"
      ]
    },
    {
      "cell_type": "code",
      "execution_count": 18,
      "metadata": {
        "id": "Cz3inexXFFGu"
      },
      "outputs": [],
      "source": [
        "inputs_train=[spec_train, \n",
        "              Burden_train, \n",
        "              class_train, \n",
        "               BDV_train, \n",
        "              PtoS_train, \n",
        "               PtoE_train, \n",
        "              StoR_train]\n",
        "\n",
        "outputs_train=[Ratio100Error120_train,\n",
        "                Ratio100Error100_train,\n",
        "                Ratio100Error80_train \n",
        "                ,Phase100Error120_train,\n",
        "                Phase100Error100_train,\n",
        "                Phase100Error80_train,\n",
        "                Ratio25Error120_train,\n",
        "                Ratio25Error100_train,\n",
        "                Ratio25Error80_train,\n",
        "                Phase25Error120_train,\n",
        "                Phase25Error100_train,\n",
        "                Phase25Error80_train\n",
        "]"
      ]
    },
    {
      "cell_type": "code",
      "execution_count": 19,
      "metadata": {
        "colab": {
          "base_uri": "https://localhost:8080/"
        },
        "id": "tor5RSvPFFGv",
        "outputId": "b1d4110c-8b88-4a71-ecaf-bdd997d4f74b"
      },
      "outputs": [
        {
          "name": "stdout",
          "output_type": "stream",
          "text": [
            "WARNING:tensorflow:Gradients do not exist for variables ['R100E80/kernel:0', 'R100E80/bias:0', 'P100E120/kernel:0', 'P100E120/bias:0', 'P100E100/kernel:0', 'P100E100/bias:0', 'P100E80/kernel:0', 'P100E80/bias:0', 'R25E120/kernel:0', 'R25E120/bias:0', 'R25E100/kernel:0', 'R25E100/bias:0', 'R25E80/kernel:0', 'R25E80/bias:0', 'P25E120/kernel:0', 'P25E120/bias:0', 'P25E100/kernel:0', 'P25E100/bias:0', 'P25E80/kernel:0', 'P25E80/bias:0'] when minimizing the loss. If you're using `model.compile()`, did you forget to provide a `loss` argument?\n",
            "WARNING:tensorflow:Gradients do not exist for variables ['R100E80/kernel:0', 'R100E80/bias:0', 'P100E120/kernel:0', 'P100E120/bias:0', 'P100E100/kernel:0', 'P100E100/bias:0', 'P100E80/kernel:0', 'P100E80/bias:0', 'R25E120/kernel:0', 'R25E120/bias:0', 'R25E100/kernel:0', 'R25E100/bias:0', 'R25E80/kernel:0', 'R25E80/bias:0', 'P25E120/kernel:0', 'P25E120/bias:0', 'P25E100/kernel:0', 'P25E100/bias:0', 'P25E80/kernel:0', 'P25E80/bias:0'] when minimizing the loss. If you're using `model.compile()`, did you forget to provide a `loss` argument?\n",
            "WARNING:tensorflow:Gradients do not exist for variables ['R100E80/kernel:0', 'R100E80/bias:0', 'P100E120/kernel:0', 'P100E120/bias:0', 'P100E100/kernel:0', 'P100E100/bias:0', 'P100E80/kernel:0', 'P100E80/bias:0', 'R25E120/kernel:0', 'R25E120/bias:0', 'R25E100/kernel:0', 'R25E100/bias:0', 'R25E80/kernel:0', 'R25E80/bias:0', 'P25E120/kernel:0', 'P25E120/bias:0', 'P25E100/kernel:0', 'P25E100/bias:0', 'P25E80/kernel:0', 'P25E80/bias:0'] when minimizing the loss. If you're using `model.compile()`, did you forget to provide a `loss` argument?\n",
            "WARNING:tensorflow:Gradients do not exist for variables ['R100E80/kernel:0', 'R100E80/bias:0', 'P100E120/kernel:0', 'P100E120/bias:0', 'P100E100/kernel:0', 'P100E100/bias:0', 'P100E80/kernel:0', 'P100E80/bias:0', 'R25E120/kernel:0', 'R25E120/bias:0', 'R25E100/kernel:0', 'R25E100/bias:0', 'R25E80/kernel:0', 'R25E80/bias:0', 'P25E120/kernel:0', 'P25E120/bias:0', 'P25E100/kernel:0', 'P25E100/bias:0', 'P25E80/kernel:0', 'P25E80/bias:0'] when minimizing the loss. If you're using `model.compile()`, did you forget to provide a `loss` argument?\n"
          ]
        }
      ],
      "source": [
        "history = model.fit(inputs_train, outputs_train,\n",
        "                    epochs = 8,\n",
        "                    batch_size=32,\n",
        "                    #128\n",
        "                    verbose=False)"
      ]
    },
    {
      "attachments": {},
      "cell_type": "markdown",
      "metadata": {
        "id": "9Lno6YrRkKuk"
      },
      "source": [
        "Plot Learning Curves"
      ]
    },
    {
      "cell_type": "code",
      "execution_count": 20,
      "metadata": {
        "colab": {
          "base_uri": "https://localhost:8080/"
        },
        "id": "W53xy2IOcccK",
        "outputId": "8ad6cc9f-3993-495a-9993-0e3f175f064a"
      },
      "outputs": [
        {
          "name": "stderr",
          "output_type": "stream",
          "text": [
            "c:\\Users\\Lenovo\\anaconda3\\lib\\site-packages\\sklearn\\base.py:450: UserWarning: X does not have valid feature names, but LinearRegression was fitted with feature names\n",
            "  warnings.warn(\n"
          ]
        },
        {
          "data": {
            "text/plain": [
              "array([-0.06848368])"
            ]
          },
          "execution_count": 20,
          "metadata": {},
          "output_type": "execute_result"
        }
      ],
      "source": [
        "reg1.predict([[33,50,0.2,44,1000,50,750]])"
      ]
    },
    {
      "cell_type": "code",
      "execution_count": 21,
      "metadata": {
        "colab": {
          "base_uri": "https://localhost:8080/"
        },
        "id": "t73AvThDe6nM",
        "outputId": "2bf28ff6-4f2b-4556-b5c2-bf34530aa9db"
      },
      "outputs": [
        {
          "name": "stderr",
          "output_type": "stream",
          "text": [
            "c:\\Users\\Lenovo\\anaconda3\\lib\\site-packages\\sklearn\\base.py:450: UserWarning: X does not have valid feature names, but LinearRegression was fitted with feature names\n",
            "  warnings.warn(\n"
          ]
        },
        {
          "data": {
            "text/plain": [
              "array([-0.06125002])"
            ]
          },
          "execution_count": 21,
          "metadata": {},
          "output_type": "execute_result"
        }
      ],
      "source": [
        "reg2.predict([[33,50,0.2,44,1000,50,750]])"
      ]
    },
    {
      "cell_type": "code",
      "execution_count": 22,
      "metadata": {
        "colab": {
          "base_uri": "https://localhost:8080/"
        },
        "id": "XVmzl2DbfDz5",
        "outputId": "edc1a5cc-ea22-4969-8273-195a31b78c4a"
      },
      "outputs": [
        {
          "name": "stderr",
          "output_type": "stream",
          "text": [
            "c:\\Users\\Lenovo\\anaconda3\\lib\\site-packages\\sklearn\\base.py:450: UserWarning: X does not have valid feature names, but LinearRegression was fitted with feature names\n",
            "  warnings.warn(\n"
          ]
        },
        {
          "data": {
            "text/plain": [
              "array([-0.05693145])"
            ]
          },
          "execution_count": 22,
          "metadata": {},
          "output_type": "execute_result"
        }
      ],
      "source": [
        "reg3.predict([[33,50,0.2,44,1000,50,750]])"
      ]
    },
    {
      "cell_type": "code",
      "execution_count": 23,
      "metadata": {
        "colab": {
          "base_uri": "https://localhost:8080/"
        },
        "id": "TbbwtnpCfFUM",
        "outputId": "421b29be-c336-4994-c4dc-2d42b6c2d420"
      },
      "outputs": [
        {
          "name": "stderr",
          "output_type": "stream",
          "text": [
            "c:\\Users\\Lenovo\\anaconda3\\lib\\site-packages\\sklearn\\base.py:450: UserWarning: X does not have valid feature names, but LinearRegression was fitted with feature names\n",
            "  warnings.warn(\n"
          ]
        },
        {
          "data": {
            "text/plain": [
              "array([-1.06251013])"
            ]
          },
          "execution_count": 23,
          "metadata": {},
          "output_type": "execute_result"
        }
      ],
      "source": [
        "reg4.predict([[33,50,0.2,44,1000,50,750]])"
      ]
    },
    {
      "cell_type": "code",
      "execution_count": 24,
      "metadata": {
        "colab": {
          "base_uri": "https://localhost:8080/"
        },
        "id": "Wi-tF89KfGk0",
        "outputId": "17246d57-c729-466d-8fb9-16a8af0b6c48"
      },
      "outputs": [
        {
          "name": "stderr",
          "output_type": "stream",
          "text": [
            "c:\\Users\\Lenovo\\anaconda3\\lib\\site-packages\\sklearn\\base.py:450: UserWarning: X does not have valid feature names, but LinearRegression was fitted with feature names\n",
            "  warnings.warn(\n"
          ]
        },
        {
          "data": {
            "text/plain": [
              "array([-1.24514275])"
            ]
          },
          "execution_count": 24,
          "metadata": {},
          "output_type": "execute_result"
        }
      ],
      "source": [
        "reg5.predict([[33,50,0.2,44,1000,50,750]])"
      ]
    },
    {
      "cell_type": "code",
      "execution_count": 25,
      "metadata": {
        "colab": {
          "base_uri": "https://localhost:8080/"
        },
        "id": "iuhujZBTfIpI",
        "outputId": "10d7971c-80c9-4464-fb3c-14be8a33c7e3"
      },
      "outputs": [
        {
          "name": "stderr",
          "output_type": "stream",
          "text": [
            "c:\\Users\\Lenovo\\anaconda3\\lib\\site-packages\\sklearn\\base.py:450: UserWarning: X does not have valid feature names, but LinearRegression was fitted with feature names\n",
            "  warnings.warn(\n"
          ]
        },
        {
          "data": {
            "text/plain": [
              "array([-1.39755326])"
            ]
          },
          "execution_count": 25,
          "metadata": {},
          "output_type": "execute_result"
        }
      ],
      "source": [
        "reg6.predict([[33,50,0.2,44,1000,50,750]])"
      ]
    }
  ],
  "metadata": {
    "colab": {
      "provenance": []
    },
    "kernelspec": {
      "display_name": "base",
      "language": "python",
      "name": "python3"
    },
    "language_info": {
      "codemirror_mode": {
        "name": "ipython",
        "version": 3
      },
      "file_extension": ".py",
      "mimetype": "text/x-python",
      "name": "python",
      "nbconvert_exporter": "python",
      "pygments_lexer": "ipython3",
      "version": "3.9.13"
    },
    "orig_nbformat": 4
  },
  "nbformat": 4,
  "nbformat_minor": 0
}
