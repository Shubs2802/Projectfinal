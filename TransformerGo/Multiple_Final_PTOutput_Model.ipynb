{
  "cells": [
    {
      "cell_type": "code",
      "execution_count": null,
      "metadata": {
        "colab": {
          "base_uri": "https://localhost:8080/"
        },
        "id": "8-TiUvJBFFGd",
        "outputId": "da03d7ab-7715-45f9-c9b2-f7fadf7f06ca"
      },
      "outputs": [
        {
          "name": "stdout",
          "output_type": "stream",
          "text": [
            "2.11.0\n"
          ]
        }
      ],
      "source": [
        "import tensorflow as tf\n",
        "print(tf.__version__)\n",
        "import keras"
      ]
    },
    {
      "cell_type": "code",
      "execution_count": null,
      "metadata": {
        "id": "9vSRCNiVFFGg"
      },
      "outputs": [],
      "source": [
        "import numpy as np\n",
        "import pandas as pd\n",
        "import matplotlib.pyplot as plt\n",
        "from sklearn import linear_model\n",
        "%matplotlib inline"
      ]
    },
    {
      "attachments": {},
      "cell_type": "markdown",
      "metadata": {
        "id": "bjPOC7IsFFGh"
      },
      "source": [
        "Load the Data"
      ]
    },
    {
      "cell_type": "code",
      "execution_count": null,
      "metadata": {
        "id": "kL1ufEqAFFGj"
      },
      "outputs": [],
      "source": [
        "from sklearn.model_selection import train_test_split\n",
        "\n",
        "pd_dat = pd.read_csv(\"PT Dataset Changed.csv\")\n",
        "da=pd.read_csv(\"PT Dataset For Model Error Prediction.csv\",sep=\",\")\n",
        "dataset = pd_dat.values"
      ]
    },
    {
      "cell_type": "code",
      "execution_count": null,
      "metadata": {
        "colab": {
          "base_uri": "https://localhost:8080/"
        },
        "id": "PZJtOqXwFFGj",
        "outputId": "40f28529-1da1-4574-922a-4288920d72e2"
      },
      "outputs": [
        {
          "data": {
            "text/plain": [
              "array([[ 3.30e+01,  5.00e+01,  2.00e-01,  3.00e+01,  2.00e+03,  9.00e+02,\n",
              "         9.00e+02, -8.39e-02, -5.94e-02, -5.24e-02, -1.10e-01, -6.90e-01,\n",
              "        -8.60e-01,  8.02e-02,  1.03e-01,  1.09e-01,  6.70e-01,  1.10e-01,\n",
              "        -5.50e-01],\n",
              "       [ 3.30e+01,  5.00e+01,  2.00e-01,  3.00e+01,  2.00e+03,  7.00e+02,\n",
              "         8.00e+02, -2.56e-02, -1.20e-02, -7.00e-03, -1.00e-01, -4.30e-01,\n",
              "        -5.30e-01,  1.31e-01,  1.43e-01,  1.47e-01,  5.20e-01,  2.00e-01,\n",
              "         1.00e-01],\n",
              "       [ 3.30e+01,  5.00e+01,  2.00e-01,  3.00e+01,  2.00e+03,  7.50e+02,\n",
              "         7.50e+02, -4.50e-02, -5.95e-02, -6.61e-02, -1.60e-01,  5.30e-01,\n",
              "         2.70e-01,  1.16e-01,  1.24e-01,  1.28e-01,  5.00e-01,  3.60e-01,\n",
              "         2.90e-01],\n",
              "       [ 3.30e+01,  5.00e+01,  2.00e-01,  3.00e+01,  2.00e+03,  9.50e+02,\n",
              "         9.80e+02, -1.53e-01, -1.46e-01, -1.44e-01, -4.70e-01, -5.70e-01,\n",
              "        -5.80e-01,  9.86e-02,  1.06e-01,  1.08e-01,  1.00e-02, -1.00e-01,\n",
              "        -1.10e-01],\n",
              "       [ 3.30e+01,  5.00e+01,  2.00e-01,  4.00e+01,  2.00e+03,  8.00e+02,\n",
              "         7.50e+02, -3.85e-02, -3.27e-02, -3.15e-02, -3.26e-01, -2.20e-02,\n",
              "        -2.20e-02,  1.26e-01,  1.33e-01,  1.36e-01,  3.70e-01,  1.60e-01,\n",
              "         9.00e-02],\n",
              "       [ 3.30e+01,  5.00e+01,  2.00e-01,  3.00e+01,  2.00e+03,  7.50e+02,\n",
              "         9.00e+02, -5.88e-02, -4.52e-02, -3.80e-02,  1.00e-01, -2.70e-01,\n",
              "        -4.70e-01,  1.20e-01,  1.13e-01,  1.20e-01,  7.30e-01,  3.90e-01,\n",
              "         2.20e-01],\n",
              "       [ 3.30e+01,  5.00e+01,  2.00e-01,  3.00e+01,  2.00e+03,  7.00e+02,\n",
              "         8.00e+02, -5.35e-02, -4.50e-02, -4.15e-02, -2.90e-01, -5.00e-01,\n",
              "        -5.60e-01,  1.12e-01,  1.19e-01,  1.22e-01,  3.60e-01,  1.80e-01,\n",
              "         1.10e-01],\n",
              "       [ 3.30e+01,  5.00e+01,  2.00e-01,  3.00e+01,  2.00e+03,  9.00e+02,\n",
              "         8.00e+02, -5.00e-02, -4.03e-02, -3.66e-02,  8.00e-02, -2.30e-01,\n",
              "        -3.30e-01,  1.18e-01,  1.28e-01,  1.31e-01,  4.70e-01,  1.80e-01,\n",
              "         1.00e-01],\n",
              "       [ 3.30e+01,  5.00e+01,  2.00e-01,  3.30e+01,  2.00e+03,  8.00e+02,\n",
              "         7.00e+02, -4.41e-02, -3.64e-02, -3.41e-02,  5.10e-01,  2.00e-01,\n",
              "         1.40e-01,  1.23e-01,  1.30e-01,  1.35e-01,  7.10e-01,  4.40e-01,\n",
              "         3.00e-01],\n",
              "       [ 3.30e+01,  5.00e+01,  2.00e-01,  3.30e+01,  1.00e+03,  7.00e+02,\n",
              "         5.50e+02, -5.06e-02, -4.60e-02, -4.24e-02,  6.60e-01,  4.70e-01,\n",
              "         3.60e-01,  1.34e-01,  1.42e-01,  1.44e-01,  6.80e-01,  4.60e-01,\n",
              "         3.50e-01],\n",
              "       [ 3.30e+01,  5.00e+01,  2.00e-01,  3.30e+01,  1.50e+03,  7.50e+02,\n",
              "         8.00e+02, -4.06e-02, -3.37e-02, -2.86e-02,  1.40e-01, -1.20e-01,\n",
              "        -2.70e-01,  1.22e-01,  1.31e-01,  1.34e-01,  5.10e-01,  2.70e-01,\n",
              "         1.70e-01],\n",
              "       [ 3.30e+01,  5.00e+01,  2.00e-01,  3.00e+01,  2.00e+03,  8.00e+02,\n",
              "         9.00e+02, -5.94e-02, -5.02e-02, -4.41e-02, -4.30e-01, -5.00e-01,\n",
              "        -8.00e-01,  1.00e-01,  1.09e-01,       nan,  3.20e-01,  3.20e-02,\n",
              "         1.12e-01],\n",
              "       [ 3.30e+01,  5.00e+01,  2.00e-01,  3.30e+01,  1.00e+03,  8.00e+02,\n",
              "         7.00e+02, -4.90e-02, -3.96e-02, -3.62e-02,  3.00e-02, -2.00e-01,\n",
              "        -3.40e-01,  1.16e-01,  1.27e-01,  1.30e-01,  6.20e-01,  2.80e-01,\n",
              "         1.10e-01],\n",
              "       [ 3.30e+01,  5.00e+01,  2.00e-01,  3.80e+01,  2.00e+03,  1.00e+03,\n",
              "         9.00e+02, -5.77e-02, -4.60e-02, -4.13e-02,  3.80e-01,  1.00e-02,\n",
              "        -1.90e-01,  1.05e-01,  1.15e-01,  1.19e-01,  7.00e-01,  3.60e-01,\n",
              "         2.20e-01],\n",
              "       [ 3.30e+01,  5.00e+01,  2.00e-01,  3.30e+01,  9.00e+02,  7.50e+02,\n",
              "         7.50e+02, -3.95e-02, -3.73e-02, -3.61e-02,  4.90e-01,  2.80e-01,\n",
              "         2.00e-01,  1.30e-01,  1.34e-01,  1.35e-01,  5.30e-01,  3.70e-01,\n",
              "         3.20e-01],\n",
              "       [ 3.30e+01,  5.00e+01,  2.00e-01,  3.80e+01,  2.00e+03,  1.00e+03,\n",
              "         8.00e+02, -4.63e-02, -3.91e-02, -3.60e-02,  5.00e-02, -2.00e-01,\n",
              "        -3.20e-01,  1.17e-01,  1.25e-01,  1.29e-01,  5.60e-01,  3.00e-01,\n",
              "         1.30e-01],\n",
              "       [ 3.30e+01,  5.00e+01,  2.00e-01,  3.80e+01,  2.00e+03,  7.50e+02,\n",
              "         5.50e+02, -4.66e-02, -3.69e-02, -3.29e-02,  9.00e-02, -2.40e-01,\n",
              "        -3.60e-01,  1.17e-01,  1.28e-01,  1.33e-01,  6.20e-01,  2.70e-01,\n",
              "         1.20e-01],\n",
              "       [ 3.30e+01,  5.00e+01,  2.00e-01,  3.80e+01,  2.00e+03,  1.00e+03,\n",
              "         5.50e+02, -4.93e-02, -4.28e-02, -3.97e-02, -3.30e-01, -5.20e-01,\n",
              "        -6.20e-01,  1.22e-01,  1.28e-01,  1.30e-01,  2.40e-01,  8.00e-02,\n",
              "         0.00e+00],\n",
              "       [ 3.30e+01,  5.00e+01,  2.00e-01,  3.80e+01,  2.00e+03,  1.00e+03,\n",
              "         5.00e+02, -6.50e-02, -5.54e-02, -5.10e-02,  8.00e-02, -2.10e-01,\n",
              "        -3.60e-01,  1.03e-01,  1.12e-01,  1.16e-01,  5.30e-01,  2.60e-01,\n",
              "         1.40e-01],\n",
              "       [ 3.30e+01,  5.00e+01,  2.00e-01,  3.80e+01,  2.00e+03,  9.00e+02,\n",
              "         1.00e+03, -6.03e-02, -5.04e-02, -4.52e-02,  2.00e-02, -3.20e-01,\n",
              "        -5.00e-01,  1.12e-01,  1.98e-01,  1.22e-01,  5.10e-01,  2.20e-01,\n",
              "         8.00e-02],\n",
              "       [ 3.30e+01,  5.00e+01,  2.00e-01,  3.80e+01,  2.00e+03,  1.00e+03,\n",
              "         7.50e+02, -3.38e-02, -2.91e-02, -2.81e-02,  1.60e-01, -8.00e-02,\n",
              "        -2.10e-01,  1.28e-01,  1.34e-01,  1.36e-01,  4.70e-01,  2.40e-01,\n",
              "         1.90e-01],\n",
              "       [ 3.30e+01,  5.00e+01,  2.00e-01,  3.80e+01,  2.00e+03,  1.00e+03,\n",
              "         7.50e+02, -6.40e-02, -5.59e-02, -5.20e-02, -1.60e-01, -3.80e-01,\n",
              "        -4.90e-01,  1.08e-01,  1.18e-01,  1.22e-01,  4.00e-01,  1.40e-01,\n",
              "         2.00e-02],\n",
              "       [ 3.30e+01,  5.00e+01,  2.00e-01,  3.30e+01,  2.00e+03,  7.50e+02,\n",
              "         7.50e+02, -4.83e-02, -4.28e-02, -3.92e-02,  4.60e-01,  2.40e-01,\n",
              "         1.70e-01,  1.26e-01,  1.32e-01,  1.35e-01,  6.60e-01,  4.10e-01,\n",
              "         3.00e-01],\n",
              "       [ 3.30e+01,  5.00e+01,  2.00e-01,  3.30e+01,  1.00e+03,  8.00e+02,\n",
              "         8.00e+02, -4.80e-02, -3.51e-02, -3.04e-02,  3.60e-01,  2.00e-02,\n",
              "        -1.30e-01,  1.22e-01,  1.35e-01,  1.38e-01,  6.90e-01,  3.50e-01,\n",
              "         2.20e-01],\n",
              "       [ 3.30e+01,  5.00e+01,  2.00e-01,  3.80e+01,  1.50e+03,  8.00e+02,\n",
              "         8.00e+02, -3.90e-02, -3.03e-02, -2.68e-02,  4.40e-01,  1.60e-01,\n",
              "        -1.00e-02,  1.30e-01,  1.36e-01,  1.04e-01,  6.40e-01,  4.60e-01,\n",
              "         3.00e-01],\n",
              "       [ 3.30e+01,  5.00e+01,  2.00e-01,  3.30e+01,  2.00e+03,  5.00e+02,\n",
              "         7.00e+02, -3.17e-02, -2.24e-02, -1.87e-02,  7.00e-02, -2.10e-01,\n",
              "        -3.40e-01,  1.27e-01,  1.35e-01,  1.38e-01,  5.00e-01,  2.80e-01,\n",
              "         1.80e-01],\n",
              "       [ 3.30e+01,  5.00e+01,  2.00e-01,  3.30e+01,  1.10e+03,  8.00e+02,\n",
              "         8.00e+02, -3.71e-02, -2.60e-02, -2.33e-02,  4.50e-01,  1.00e-01,\n",
              "        -4.00e-02,  1.29e-01,  1.39e-01,  1.44e-01,  6.60e-01,  4.10e-01,\n",
              "         2.60e-01],\n",
              "       [ 3.30e+01,  5.00e+01,  2.00e-01,  3.30e+01,  1.00e+03,  8.00e+02,\n",
              "         7.00e+02, -5.75e-02, -4.95e-02, -4.49e-02,  5.10e-01,  2.80e-01,\n",
              "         1.50e-01,  1.21e-01,  1.29e-01,  1.32e-01,  6.80e-01,  4.10e-01,\n",
              "         2.90e-01],\n",
              "       [ 3.30e+01,  5.00e+01,  2.00e-01,  4.40e+01,  2.00e+02,  5.50e+01,\n",
              "         5.00e+01, -4.75e-02, -4.21e-02, -3.67e-02,  2.60e-01,  7.00e-02,\n",
              "        -6.00e-02,  1.22e-01,  1.29e-01,  1.32e-01,  5.90e-01,  3.90e-01,\n",
              "         2.30e-01],\n",
              "       [ 3.30e+01,  5.00e+01,  2.00e-01,  4.40e+01,  1.00e+03,  5.00e+01,\n",
              "         7.50e+02, -9.31e-02, -8.74e-02, -8.43e-02, -1.74e+00, -1.92e+00,\n",
              "        -2.07e+00,  1.03e-01,  1.11e-01,  1.17e-01, -1.20e-01, -3.40e-01,\n",
              "        -4.70e-01]])"
            ]
          },
          "execution_count": 113,
          "metadata": {},
          "output_type": "execute_result"
        }
      ],
      "source": [
        "dataset"
      ]
    },
    {
      "cell_type": "code",
      "execution_count": null,
      "metadata": {
        "id": "YISSa6v8FFGk"
      },
      "outputs": [],
      "source": [
        "X_train, X_test, Y_train, Y_test = train_test_split(dataset[:,:7],dataset[:,7:], test_size=0.33)\n",
        "X_train = np.asarray(X_train)\n",
        "Y_train = np.asarray(Y_train)\n",
        "# .astype(np.float32)"
      ]
    },
    {
      "cell_type": "code",
      "execution_count": null,
      "metadata": {
        "id": "s-YwDRMPFFGl"
      },
      "outputs": [],
      "source": [
        "spec_train, Burden_train, class_train, BDV_train, PtoS_train, PtoE_train, StoR_train = np.transpose(X_train)\n",
        "spec_test, Burden_test, class_test, BDV_test, PtoS_test, PtoE_test, StoR_test = np.transpose(X_test)\n",
        "\n",
        "Ratio100Error120_train, Ratio100Error100_train ,Ratio100Error80_train, Phase100Error120_train ,Phase100Error100_train, Phase100Error80_train, Ratio25Error120_train, Ratio25Error100_train, Ratio25Error80_train, Phase25Error120_train, Phase25Error100_train, Phase25Error80_train = Y_train[:,0], Y_train[:,1], Y_train[:,2], Y_train[:,3],Y_train[:,4],Y_train[:,5],Y_train[:,6],Y_train[:,7],Y_train[:,8],Y_train[:,9],Y_train[:,10], Y_train[:,11]\n",
        "Ratio100Error120_test, Ratio100Error100_test ,Ratio100Error80_test, Phase100Error120_test ,Phase100Error100_test, Phase100Error80_test, Ratio25Error120_test, Ratio25Error100_test, Ratio25Error80_test, Phase25Error120_test, Phase25Error100_test, Phase25Error80_test = Y_test[:,0], Y_test[:,1], Y_test[:,2], Y_test[:,3],Y_test[:,4],Y_test[:,5],Y_test[:,6],Y_test[:,7],Y_test[:,8],Y_test[:,9],Y_test[:,10], Y_test[:,11]"
      ]
    },
    {
      "attachments": {},
      "cell_type": "markdown",
      "metadata": {
        "id": "Qdllp6jtFFGm"
      },
      "source": [
        "Build the Model"
      ]
    },
    {
      "cell_type": "code",
      "execution_count": null,
      "metadata": {
        "id": "QkCHAffSFFGm"
      },
      "outputs": [],
      "source": [
        "from tensorflow.keras import Input, layers\n",
        "shape_inputs = (1,)\n",
        "spec = Input(shape=shape_inputs, name='spec')\n",
        "Burden= Input(shape=shape_inputs, name='Burden')\n",
        "Class= Input(shape=shape_inputs, name='Class')\n",
        "BDVOil= Input(shape=shape_inputs, name='BDVOil')\n",
        "PtoS= Input(shape=shape_inputs, name='PtoS')\n",
        "PtoE= Input(shape=shape_inputs, name='PtoE')\n",
        "StoR= Input(shape=shape_inputs, name='StoR')\n"
      ]
    },
    {
      "cell_type": "code",
      "execution_count": null,
      "metadata": {
        "id": "A_rkOqlsFFGn"
      },
      "outputs": [],
      "source": [
        "list_inputs = [spec,  Burden, Class,  BDVOil, PtoS, PtoE, StoR]"
      ]
    },
    {
      "cell_type": "code",
      "execution_count": null,
      "metadata": {
        "id": "inMBLdm0FFGo"
      },
      "outputs": [],
      "source": [
        "X= layers.concatenate(list_inputs)"
      ]
    },
    {
      "cell_type": "code",
      "execution_count": null,
      "metadata": {
        "id": "EoH5gb4UFFGo"
      },
      "outputs": [],
      "source": [
        "Ratio100Error120 = layers.Dense(1,activation='sigmoid', name= 'R100E120')(X)\n",
        "Ratio100Error100 = layers.Dense(1,activation='sigmoid', name= 'R100E100')(X) \n",
        "Ratio100Error80 = layers.Dense(1,activation='sigmoid', name= 'R100E80')(X)\n",
        "Phase100Error120 = layers.Dense(1,activation='sigmoid', name= 'P100E120')(X) \n",
        "Phase100Error100 = layers.Dense(1,activation='sigmoid', name= 'P100E100')(X)\n",
        "Phase100Error80 = layers.Dense(1,activation='sigmoid', name= 'P100E80')(X)\n",
        "Ratio25Error120 = layers.Dense(1,activation='sigmoid', name= 'R25E120')(X)\n",
        "Ratio25Error100 = layers.Dense(1,activation='sigmoid', name= 'R25E100')(X)\n",
        "Ratio25Error80 = layers.Dense(1,activation='sigmoid', name= 'R25E80')(X)\n",
        "Phase25Error120 = layers.Dense(1,activation='sigmoid', name= 'P25E120')(X)\n",
        "Phase25Error100 = layers.Dense(1,activation='sigmoid', name= 'P25E100')(X)\n",
        "Phase25Error80 = layers.Dense(1,activation='sigmoid', name= 'P25E80')(X)"
      ]
    },
    {
      "cell_type": "code",
      "execution_count": null,
      "metadata": {
        "colab": {
          "base_uri": "https://localhost:8080/"
        },
        "id": "jv2eWO-4FFGp",
        "outputId": "5c04958d-58b4-498c-be05-277ec0563c64"
      },
      "outputs": [
        {
          "data": {
            "text/plain": [
              "1.6534917372211582"
            ]
          },
          "execution_count": 120,
          "metadata": {},
          "output_type": "execute_result"
        }
      ],
      "source": [
        "list_outputs = [Ratio100Error120, Ratio100Error100, Ratio100Error80, Phase100Error120, Phase100Error100, Phase100Error80, Ratio25Error120, Ratio25Error100, Ratio25Error80, Phase25Error120, Phase25Error100, Phase25Error80]   \n",
        "reg1 = linear_model.LinearRegression()\n",
        "reg1.fit(da.drop(['Ratio100Error120','Ratio100Error100','Ratio100Error80','Phase100Error120','Phase100Error100','Phase100Error80','VoltageFactor'],axis='columns'),da.Ratio100Error120)\n",
        "reg2 = linear_model.LinearRegression()\n",
        "reg2.fit(da.drop(['Ratio100Error120','Ratio100Error100','Ratio100Error80','Phase100Error120','Phase100Error100','Phase100Error80','VoltageFactor'],axis='columns'),da.Ratio100Error100)\n",
        "reg3 = linear_model.LinearRegression()\n",
        "reg3.fit(da.drop(['Ratio100Error120','Ratio100Error100','Ratio100Error80','Phase100Error120','Phase100Error100','Phase100Error80','VoltageFactor'],axis='columns'),da.Ratio100Error80)\n",
        "reg4 = linear_model.LinearRegression()\n",
        "reg4.fit(da.drop(['Ratio100Error120','Ratio100Error100','Ratio100Error80','Phase100Error120','Phase100Error100','Phase100Error80','VoltageFactor'],axis='columns'),da.Phase100Error120)\n",
        "reg5 = linear_model.LinearRegression()\n",
        "reg5.fit(da.drop(['Ratio100Error120','Ratio100Error100','Ratio100Error80','Phase100Error120','Phase100Error100','Phase100Error80','VoltageFactor'],axis='columns'),da.Phase100Error100)\n",
        "reg6 = linear_model.LinearRegression()\n",
        "reg6.fit(da.drop(['Ratio100Error120','Ratio100Error100','Ratio100Error80','Phase100Error120','Phase100Error100','Phase100Error80','VoltageFactor'],axis='columns'),da.Phase100Error80)\n",
        "reg1.coef_\n",
        "reg2.coef_\n",
        "reg3.coef_\n",
        "reg4.coef_\n",
        "reg5.coef_\n",
        "reg6.coef_\n",
        "reg1.intercept_\n",
        "reg2.intercept_\n",
        "reg3.intercept_\n",
        "reg4.intercept_\n",
        "reg5.intercept_\n",
        "reg6.intercept_"
      ]
    },
    {
      "cell_type": "code",
      "execution_count": null,
      "metadata": {
        "id": "V4pDFqTgFFGq"
      },
      "outputs": [],
      "source": [
        "model = tf.keras.Model(inputs=list_inputs, outputs=list_outputs)"
      ]
    },
    {
      "attachments": {},
      "cell_type": "markdown",
      "metadata": {
        "id": "s683oUmpFFGq"
      },
      "source": [
        "Plot the Model"
      ]
    },
    {
      "cell_type": "code",
      "execution_count": null,
      "metadata": {
        "colab": {
          "base_uri": "https://localhost:8080/",
          "height": 142
        },
        "id": "RPgtKA23FFGr",
        "outputId": "594cc9f6-2a8a-4ce0-d5f7-dcd6aa274a80"
      },
      "outputs": [
        {
          "data": {
            "image/png": "[encoded data removed]",
            "text/plain": [
              "<IPython.core.display.Image object>"
            ]
          },
          "execution_count": 122,
          "metadata": {},
          "output_type": "execute_result"
        }
      ],
      "source": [
        "tf.keras.utils.plot_model(model, 'muti_input_output_model.png', show_shapes=True)"
      ]
    },
    {
      "attachments": {},
      "cell_type": "markdown",
      "metadata": {
        "id": "cjct4q61FFGr"
      },
      "source": [
        "Compile The Model"
      ]
    },
    {
      "cell_type": "code",
      "execution_count": null,
      "metadata": {
        "id": "diMj2TSQFFGs"
      },
      "outputs": [],
      "source": [
        "# model.compile(optimizer=tf.keras.optimizers.RMSprop(1e-3), loss={'Ratio100Error120':'binary_crossentropy', \n",
        "#                                                                 'Ratio100Error100':'binary_crossentropy',\n",
        "#                                                                 'Ratio100Error80':'binary_crossentropy', \n",
        "#                                                                 'Phase100Error120':'binary_crossentropy', \n",
        "#                                                                 'Phase100Error100':'binary_crossentropy', \n",
        "#                                                                 'Phase100Error80':'binary_crossentropy',\n",
        "#                                                                 'Ratio25Error120':'binary_crossentropy', \n",
        "#                                                                 'Ratio25Error100':'binary_crossentropy',\n",
        "#                                                                 'Ratio25Error80':'binary_crossentropy',\n",
        "#                                                                 'Phase25Error120':'binary_crossentropy',\n",
        "#                                                                 'Phase25Error100':'binary_crossentropy', \n",
        "#                                                                 'Phase25Error80':'binary_crossentropy'},\n",
        "#                                                                 metrics=['acc'],\n",
        "#                                                                 loss_weights=[1.,0.2])"
      ]
    },
    {
      "cell_type": "code",
      "execution_count": null,
      "metadata": {
        "id": "muV3sTnzFFGs"
      },
      "outputs": [],
      "source": [
        "from keras.backend import binary_crossentropy\n",
        "model.compile(optimizer=tf.keras.optimizers.RMSprop(1e-3), loss=\n",
        "                                                                ['binary_crossentropy', \n",
        "                                                                'binary_crossentropy',\n",
        "                                                                'binary_crossentropy', \n",
        "                                                                'binary_crossentropy', \n",
        "                                                                'binary_crossentropy', \n",
        "                                                                'binary_crossentropy',\n",
        "                                                                'binary_crossentropy', \n",
        "                                                                'binary_crossentropy',\n",
        "                                                                'binary_crossentropy',\n",
        "                                                                'binary_crossentropy',\n",
        "                                                                'binary_crossentropy', \n",
        "                                                                 'binary_crossentropy'\n",
        "                                                                 ]\n",
        "                                                                ,\n",
        "                                                                metrics={'R100E120':['acc'],\n",
        "                                                                         'R100E100':['acc'],\n",
        "                                                                         'R100E80':['acc'],\n",
        "                                                                         'P100E120':['acc'],\n",
        "                                                                         'P100E100':['acc'],\n",
        "                                                                         'P100E80':['acc'],\n",
        "                                                                         'R25E120':['acc'],\n",
        "                                                                         'R25E100':['acc'],\n",
        "                                                                         'R25E80':['acc'],\n",
        "                                                                         'P25E120':['acc'],\n",
        "                                                                         'P25E100':['acc'],\n",
        "                                                                         'P25E80':['acc']\n",
        "                                                                         },\n",
        "                                                                loss_weights=[1.,0.2])\n"
      ]
    },
    {
      "cell_type": "code",
      "execution_count": 1,
      "metadata": {
        "colab": {
          "base_uri": "https://localhost:8080/"
        },
        "id": "r5lRy7GChuHa",
        "outputId": "264737f3-153d-4424-fefd-67e8b5c8e5ff"
      },
      "outputs": [
        {
          "name": "stdout",
          "output_type": "stream",
          "text": [
            "Accuracy: 0.7\n"
          ]
        }
      ],
      "source": [
        "model.compile(\n",
        "    loss = {\n",
        "        \"output_2\" : keras.losses.BinaryCrossentropy(from_logits=False),\n",
        "        \"output_1\" : keras.losses.CategoricalCrossentropy(from_logits=False)\n",
        "    },\n",
        "    metrics = ['Accuracy'],\n",
        "    optimizer = keras.optimizers.Adam()\n",
        ")"
      ]
    },
    {
      "attachments": {},
      "cell_type": "markdown",
      "metadata": {
        "id": "hH1Gz9a1FFGt"
      },
      "source": [
        "Fit Model"
      ]
    },
    {
      "cell_type": "code",
      "execution_count": null,
      "metadata": {
        "id": "LpAPcqvjFFGu"
      },
      "outputs": [],
      "source": [
        "# inputs_train={'spec' :spec_train, \n",
        "#               'PTRatio': PTRatio_train, \n",
        "#               'Type1':Type1_train, \n",
        "#               'Type2':Type2_train, \n",
        "#               'Burden':Burden_train, \n",
        "#               'Class': class_train, \n",
        "#               'VoltF':VF_train, \n",
        "#               'BDVOil': BDV_train, \n",
        "#               'PtoS':PtoS_train, \n",
        "#               'PtoE': PtoE_train, \n",
        "#               'StoR':StoR_train}\n",
        "\n",
        "# outputs_train={'Ratio100Error120': Ratio100Error120_train,\n",
        "#                 'Ratio100Error100':Ratio100Error100_train,\n",
        "#                 'Ratio100Error80':Ratio100Error80_train ,\n",
        "#                 'Phase100Error120':Phase100Error120_train,\n",
        "#                 'Phase100Error100':Phase100Error100_train,\n",
        "#                 'Phase100Error80':Phase100Error80_train,\n",
        "#                 'Ratio25Error120':Ratio25Error120_train,\n",
        "#                 'Ratio25Error100':Ratio25Error100_train,\n",
        "#                 'Ratio25Error80':Ratio25Error80_train,\n",
        "#                 'Phase25Error120':Phase25Error120_train,\n",
        "#                 'Phase25Error100':Phase25Error100_train,\n",
        "#                 'Phase25Error80':Phase25Error80_train\n",
        "\n",
        "# }"
      ]
    },
    {
      "cell_type": "code",
      "execution_count": null,
      "metadata": {
        "id": "Cz3inexXFFGu"
      },
      "outputs": [],
      "source": [
        "inputs_train=[spec_train, \n",
        "              Burden_train, \n",
        "              class_train, \n",
        "               BDV_train, \n",
        "              PtoS_train, \n",
        "               PtoE_train, \n",
        "              StoR_train]\n",
        "\n",
        "outputs_train=[Ratio100Error120_train,\n",
        "                Ratio100Error100_train,\n",
        "                Ratio100Error80_train \n",
        "                ,Phase100Error120_train,\n",
        "                Phase100Error100_train,\n",
        "                Phase100Error80_train,\n",
        "                Ratio25Error120_train,\n",
        "                Ratio25Error100_train,\n",
        "                Ratio25Error80_train,\n",
        "                Phase25Error120_train,\n",
        "                Phase25Error100_train,\n",
        "                Phase25Error80_train\n",
        "]"
      ]
    },
    {
      "cell_type": "code",
      "execution_count": null,
      "metadata": {
        "colab": {
          "base_uri": "https://localhost:8080/"
        },
        "id": "tor5RSvPFFGv",
        "outputId": "b1d4110c-8b88-4a71-ecaf-bdd997d4f74b"
      },
      "outputs": [
        {
          "name": "stderr",
          "output_type": "stream",
          "text": [
            "WARNING:tensorflow:Gradients do not exist for variables ['R100E80/kernel:0', 'R100E80/bias:0', 'P100E120/kernel:0', 'P100E120/bias:0', 'P100E100/kernel:0', 'P100E100/bias:0', 'P100E80/kernel:0', 'P100E80/bias:0', 'R25E120/kernel:0', 'R25E120/bias:0', 'R25E100/kernel:0', 'R25E100/bias:0', 'R25E80/kernel:0', 'R25E80/bias:0', 'P25E120/kernel:0', 'P25E120/bias:0', 'P25E100/kernel:0', 'P25E100/bias:0', 'P25E80/kernel:0', 'P25E80/bias:0'] when minimizing the loss. If you're using `model.compile()`, did you forget to provide a `loss` argument?\n",
            "WARNING:tensorflow:Gradients do not exist for variables ['R100E80/kernel:0', 'R100E80/bias:0', 'P100E120/kernel:0', 'P100E120/bias:0', 'P100E100/kernel:0', 'P100E100/bias:0', 'P100E80/kernel:0', 'P100E80/bias:0', 'R25E120/kernel:0', 'R25E120/bias:0', 'R25E100/kernel:0', 'R25E100/bias:0', 'R25E80/kernel:0', 'R25E80/bias:0', 'P25E120/kernel:0', 'P25E120/bias:0', 'P25E100/kernel:0', 'P25E100/bias:0', 'P25E80/kernel:0', 'P25E80/bias:0'] when minimizing the loss. If you're using `model.compile()`, did you forget to provide a `loss` argument?\n",
            "WARNING:tensorflow:Gradients do not exist for variables ['R100E80/kernel:0', 'R100E80/bias:0', 'P100E120/kernel:0', 'P100E120/bias:0', 'P100E100/kernel:0', 'P100E100/bias:0', 'P100E80/kernel:0', 'P100E80/bias:0', 'R25E120/kernel:0', 'R25E120/bias:0', 'R25E100/kernel:0', 'R25E100/bias:0', 'R25E80/kernel:0', 'R25E80/bias:0', 'P25E120/kernel:0', 'P25E120/bias:0', 'P25E100/kernel:0', 'P25E100/bias:0', 'P25E80/kernel:0', 'P25E80/bias:0'] when minimizing the loss. If you're using `model.compile()`, did you forget to provide a `loss` argument?\n",
            "WARNING:tensorflow:Gradients do not exist for variables ['R100E80/kernel:0', 'R100E80/bias:0', 'P100E120/kernel:0', 'P100E120/bias:0', 'P100E100/kernel:0', 'P100E100/bias:0', 'P100E80/kernel:0', 'P100E80/bias:0', 'R25E120/kernel:0', 'R25E120/bias:0', 'R25E100/kernel:0', 'R25E100/bias:0', 'R25E80/kernel:0', 'R25E80/bias:0', 'P25E120/kernel:0', 'P25E120/bias:0', 'P25E100/kernel:0', 'P25E100/bias:0', 'P25E80/kernel:0', 'P25E80/bias:0'] when minimizing the loss. If you're using `model.compile()`, did you forget to provide a `loss` argument?\n"
          ]
        }
      ],
      "source": [
        "history = model.fit(inputs_train, outputs_train,\n",
        "                    epochs = 6,\n",
        "                    batch_size=32,\n",
        "                    #128\n",
        "                    verbose=False)"
      ]
    },
    {
      "cell_type": "code",
      "execution_count": null,
      "metadata": {
        "colab": {
          "base_uri": "https://localhost:8080/"
        },
        "id": "W53xy2IOcccK",
        "outputId": "8ad6cc9f-3993-495a-9993-0e3f175f064a"
      },
      "outputs": [
        {
          "name": "stderr",
          "output_type": "stream",
          "text": [
            "/usr/local/lib/python3.9/dist-packages/sklearn/base.py:439: UserWarning: X does not have valid feature names, but LinearRegression was fitted with feature names\n",
            "  warnings.warn(\n"
          ]
        },
        {
          "data": {
            "text/plain": [
              "array([-0.06848368])"
            ]
          },
          "execution_count": 130,
          "metadata": {},
          "output_type": "execute_result"
        }
      ],
      "source": [
        "reg1.predict([[33,50,0.2,44,1000,50,750]])"
      ]
    },
    {
      "cell_type": "code",
      "execution_count": null,
      "metadata": {
        "colab": {
          "base_uri": "https://localhost:8080/"
        },
        "id": "t73AvThDe6nM",
        "outputId": "2bf28ff6-4f2b-4556-b5c2-bf34530aa9db"
      },
      "outputs": [
        {
          "name": "stderr",
          "output_type": "stream",
          "text": [
            "/usr/local/lib/python3.9/dist-packages/sklearn/base.py:439: UserWarning: X does not have valid feature names, but LinearRegression was fitted with feature names\n",
            "  warnings.warn(\n"
          ]
        },
        {
          "data": {
            "text/plain": [
              "array([-0.06125002])"
            ]
          },
          "execution_count": 131,
          "metadata": {},
          "output_type": "execute_result"
        }
      ],
      "source": [
        "reg2.predict([[33,50,0.2,44,1000,50,750]])"
      ]
    },
    {
      "cell_type": "code",
      "execution_count": null,
      "metadata": {
        "colab": {
          "base_uri": "https://localhost:8080/"
        },
        "id": "XVmzl2DbfDz5",
        "outputId": "edc1a5cc-ea22-4969-8273-195a31b78c4a"
      },
      "outputs": [
        {
          "name": "stderr",
          "output_type": "stream",
          "text": [
            "/usr/local/lib/python3.9/dist-packages/sklearn/base.py:439: UserWarning: X does not have valid feature names, but LinearRegression was fitted with feature names\n",
            "  warnings.warn(\n"
          ]
        },
        {
          "data": {
            "text/plain": [
              "array([-0.05693145])"
            ]
          },
          "execution_count": 132,
          "metadata": {},
          "output_type": "execute_result"
        }
      ],
      "source": [
        "reg3.predict([[33,50,0.2,44,1000,50,750]])"
      ]
    },
    {
      "cell_type": "code",
      "execution_count": null,
      "metadata": {
        "colab": {
          "base_uri": "https://localhost:8080/"
        },
        "id": "TbbwtnpCfFUM",
        "outputId": "421b29be-c336-4994-c4dc-2d42b6c2d420"
      },
      "outputs": [
        {
          "name": "stderr",
          "output_type": "stream",
          "text": [
            "/usr/local/lib/python3.9/dist-packages/sklearn/base.py:439: UserWarning: X does not have valid feature names, but LinearRegression was fitted with feature names\n",
            "  warnings.warn(\n"
          ]
        },
        {
          "data": {
            "text/plain": [
              "array([-1.06251013])"
            ]
          },
          "execution_count": 133,
          "metadata": {},
          "output_type": "execute_result"
        }
      ],
      "source": [
        "reg4.predict([[33,50,0.2,44,1000,50,750]])"
      ]
    },
    {
      "cell_type": "code",
      "execution_count": null,
      "metadata": {
        "colab": {
          "base_uri": "https://localhost:8080/"
        },
        "id": "Wi-tF89KfGk0",
        "outputId": "17246d57-c729-466d-8fb9-16a8af0b6c48"
      },
      "outputs": [
        {
          "name": "stderr",
          "output_type": "stream",
          "text": [
            "/usr/local/lib/python3.9/dist-packages/sklearn/base.py:439: UserWarning: X does not have valid feature names, but LinearRegression was fitted with feature names\n",
            "  warnings.warn(\n"
          ]
        },
        {
          "data": {
            "text/plain": [
              "array([-1.24514275])"
            ]
          },
          "execution_count": 134,
          "metadata": {},
          "output_type": "execute_result"
        }
      ],
      "source": [
        "reg5.predict([[33,50,0.2,44,1000,50,750]])"
      ]
    },
    {
      "cell_type": "code",
      "execution_count": null,
      "metadata": {
        "colab": {
          "base_uri": "https://localhost:8080/"
        },
        "id": "iuhujZBTfIpI",
        "outputId": "10d7971c-80c9-4464-fb3c-14be8a33c7e3"
      },
      "outputs": [
        {
          "name": "stderr",
          "output_type": "stream",
          "text": [
            "/usr/local/lib/python3.9/dist-packages/sklearn/base.py:439: UserWarning: X does not have valid feature names, but LinearRegression was fitted with feature names\n",
            "  warnings.warn(\n"
          ]
        },
        {
          "data": {
            "text/plain": [
              "array([-1.39755326])"
            ]
          },
          "execution_count": 135,
          "metadata": {},
          "output_type": "execute_result"
        }
      ],
      "source": [
        "reg6.predict([[33,50,0.2,44,1000,50,750]])"
      ]
    }
  ],
  "metadata": {
    "colab": {
      "provenance": []
    },
    "kernelspec": {
      "display_name": "base",
      "language": "python",
      "name": "python3"
    },
    "language_info": {
      "codemirror_mode": {
        "name": "ipython",
        "version": 3
      },
      "file_extension": ".py",
      "mimetype": "text/x-python",
      "name": "python",
      "nbconvert_exporter": "python",
      "pygments_lexer": "ipython3",
      "version": "3.10.9"
    },
    "orig_nbformat": 4
  },
  "nbformat": 4,
  "nbformat_minor": 0
}
